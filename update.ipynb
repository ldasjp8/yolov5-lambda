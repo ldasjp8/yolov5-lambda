{
 "cells": [
  {
   "cell_type": "markdown",
   "metadata": {},
   "source": [
    "# コンテナを利用して Lambda 関数を更新する\n",
    "このスクリプトを実行するための IAM の権限や、AWS configure とかは事前に要設定"
   ]
  },
  {
   "cell_type": "code",
   "execution_count": null,
   "metadata": {},
   "outputs": [],
   "source": [
    "import json\n",
    "import pprint\n",
    "\n",
    "with open('conf.json') as f:\n",
    "    conf = json.load(f)\n",
    "\n",
    "pprint.pprint(conf)"
   ]
  },
  {
   "cell_type": "code",
   "execution_count": null,
   "metadata": {},
   "outputs": [],
   "source": [
    "import boto3, datetime, subprocess, json\n",
    "from time import sleep\n",
    "\n",
    "from boto3.session import Session\n",
    "profile = conf[\"profile\"]\n",
    "session = Session(profile_name=profile)"
   ]
  },
  {
   "cell_type": "code",
   "execution_count": null,
   "metadata": {},
   "outputs": [],
   "source": [
    "tag = conf[\"tag\"]\n",
    "repository_name = conf[\"repository_name\"]"
   ]
  },
  {
   "cell_type": "code",
   "execution_count": null,
   "metadata": {},
   "outputs": [],
   "source": [
    "domain = conf[\"domain\"]\n",
    "uri = domain + \"/\" + repository_name"
   ]
  },
  {
   "cell_type": "markdown",
   "metadata": {},
   "source": [
    "## ECR にコンテナイメージをプッシュ"
   ]
  },
  {
   "cell_type": "code",
   "execution_count": null,
   "metadata": {},
   "outputs": [],
   "source": [
    "%%time\n",
    "\n",
    "# build からプッシュまで\n",
    "\n",
    "# build 済なら実行不要\n",
    "!docker build -t {repository_name} --platform=linux/amd64 .\n",
    "\n",
    "# タグ付与\n",
    "!docker tag {repository_name}{tag} {uri}{tag}\n",
    "\n",
    "# ECR にログイン\n",
    "! aws ecr get-login-password --profile {profile} | docker login --username AWS --password-stdin {domain}\n",
    "\n",
    "# push\n",
    "!docker push {uri}{tag}"
   ]
  },
  {
   "cell_type": "code",
   "execution_count": null,
   "metadata": {},
   "outputs": [],
   "source": [
    "# 必要な情報を抜き取っておく\n",
    "ecr = session.client('ecr')\n",
    "res = ecr.describe_images(\n",
    "    repositoryName = repository_name\n",
    ")\n",
    "image_digest = res['imageDetails'][-1]['imageDigest']"
   ]
  },
  {
   "cell_type": "markdown",
   "metadata": {},
   "source": [
    "## Lambda を実行するロールを取得"
   ]
  },
  {
   "cell_type": "code",
   "execution_count": null,
   "metadata": {},
   "outputs": [],
   "source": [
    "function_name =conf[\"function_name\"]\n",
    "role_arn = conf[\"role_arn\"]"
   ]
  },
  {
   "cell_type": "markdown",
   "metadata": {},
   "source": [
    "## Lambda 関数を更新する"
   ]
  },
  {
   "cell_type": "code",
   "execution_count": null,
   "metadata": {},
   "outputs": [],
   "source": [
    "%%time\n",
    "# lambda function を Docker で作成したイメージから作成する\n",
    "lambda_client = session.client('lambda')\n",
    "res = lambda_client.update_function_code(\n",
    "    FunctionName=function_name,\n",
    "    ImageUri= f'{uri}@{image_digest}'\n",
    ")\n",
    "# 作成が完了するまで待つ\n",
    "while True:\n",
    "    res = lambda_client.get_function(FunctionName=function_name)\n",
    "    configuration = res['Configuration']\n",
    "    StateReasonCode = configuration['StateReasonCode'] if 'StateReasonCode' in configuration else None\n",
    "    LastUpdateStatus = configuration['LastUpdateStatus']\n",
    "    \n",
    "    try:\n",
    "        if StateReasonCode=='Creating' or LastUpdateStatus=='InProgress':\n",
    "            print('.',end='')\n",
    "            sleep(1)\n",
    "        elif LastUpdateStatus=='Successful':\n",
    "            print('!')\n",
    "            break\n",
    "    except:\n",
    "        if LastUpdateStatus=='Successful':\n",
    "            print('!')\n",
    "            break\n",
    "        else:\n",
    "            print('?')\n",
    "            break\n"
   ]
  },
  {
   "cell_type": "markdown",
   "metadata": {},
   "source": [
    "## 推論してみる"
   ]
  },
  {
   "cell_type": "code",
   "execution_count": null,
   "metadata": {},
   "outputs": [],
   "source": [
    "import base64\n",
    "import requests\n",
    "import cv2\n",
    "import numpy as np\n",
    "from matplotlib import pyplot as plt\n",
    "input_file = './yolov5/data/images/bus.jpg'\n",
    "data = {}\n",
    "with open(input_file,'rb') as f:\n",
    "    data[\"body\"]= base64.b64encode(f.read()).decode('utf-8')"
   ]
  },
  {
   "cell_type": "code",
   "execution_count": null,
   "metadata": {},
   "outputs": [],
   "source": [
    "%%time\n",
    "res = lambda_client.invoke(\n",
    "    FunctionName=function_name,\n",
    "    Payload=json.dumps(data)\n",
    ")\n",
    "\n",
    "payload = res[\"Payload\"]\n",
    "\n",
    "body = payload.read()\n",
    "body = body.decode()\n",
    "json_dict = json.loads(body)\n",
    "print(json_dict)"
   ]
  }
 ],
 "metadata": {
  "kernelspec": {
   "display_name": "Python 3 (ipykernel)",
   "language": "python",
   "name": "python3"
  },
  "language_info": {
   "codemirror_mode": {
    "name": "ipython",
    "version": 3
   },
   "file_extension": ".py",
   "mimetype": "text/x-python",
   "name": "python",
   "nbconvert_exporter": "python",
   "pygments_lexer": "ipython3",
   "version": "3.9.7"
  }
 },
 "nbformat": 4,
 "nbformat_minor": 4
}
